{
 "cells": [
  {
   "cell_type": "markdown",
   "metadata": {},
   "source": [
    "# Assignment 4 – Spam Classification\n",
    "\n",
    "The primary description of this coursework is available on course page page. This is the Jupyter notebook you must complete and submit to receive marks. \n",
    "\n",
    "**You must follow all instructions given in this notebook.**\n",
    "\n",
    "Restart the kernel and run all cells before submitting the notebook. This will guarantee that we will be able to run your code for testing.\n",
    "\n",
    "Remember to save your work regularly. \n",
    "\n",
    "## Assignment Details\n",
    "Spam refers to unwanted email, often in the form of advertisements. In the literature, an email that is **not** spam is called *ham*. Most email providers offer automatic spam filtering, where spam emails will be moved to a separate inbox based on their contents. Of course this requires being able to scan an email and determine whether it is spam or ham, a classification problem. This is the subject of this assignment.\n",
    "\n",
    "This assignment has two parts, both are contained within this one notebook. As always you are welcome to write code separately (e.g. in an IDE like Pycharm) which you then copy into the notebook to submit, but you must make sure the notebook runs without any additional resources.\n",
    "\n",
    "In part one you will write a supervised learning based classifier to determine whether a given email is spam or ham. The data is provided for you. You may use any classification method; marks will be awarded based on (1) the accuracy of your classifier on unseen test data and (2) the technical difficulty of your chosen method.\n",
    "\n",
    "This part is worth 80% of the assignment. Purely as a guideline:\n",
    "* Reusing the k-nearest neighbour code from the Dogs and Cats example can score 20/80\n",
    "* A more efficient and/or effective implementation of k-nearest neighbour can score 40/80\n",
    "* A good implementation of Naïve Bayes can score 60/80\n",
    "* Methods which go beyond the taught material can score higher than 60/80\n",
    "\n",
    "These marks are only guidelines. Implementations of Naïve Bayes with extensions that go beyond the taught material may score higher than 60/80, and flawed implementations may score lower. Also notice that by reusing the kNN code from the Dogs and Cats example, you cannot score over 40/100 on the entire assignment. This is still offered as an option for students who are struggling in the hope that this will average out with earlier assignments.\n",
    "\n",
    "You are welcome to use tools from libraries such as `numpy` and `scipy` to write your classifier.\n",
    "\n",
    "* For kNN you may wish to look at [`scipy.spatial.distance.cdist`](https://docs.scipy.org/doc/scipy/reference/generated/scipy.spatial.distance.cdist.html). \n",
    "* For Naïve Bayes there are additional steps to help you available in this [separate notebook file](data/naivebayes.ipynb).\n",
    "\n",
    "Note that while you may use tools such as the `cdist` function above, you **can not** import code which builds entire models. This includes but is not limited to use of a library like `scikit-learn`. The point of this assignment is to code the actual algorithm yourself. ***If you are in any doubt about any particular library or function please ask a tutor.*** Submissions which ignore this will receive penalties or even zero marks.\n",
    "\n",
    "The training data is described below and has 1000 rows. There is also a 500 row set of test data. These are functionally identical to the training data, they are just in a separate csv file to encourage you to split out your training and test data. You should consider how to best make use of all available data without overfitting and may wish to consider tools such as cross validation. This might be used, for example, to help decide what value of $k$ to use for k-nearest neighbour.\n",
    "\n",
    "In part two you will write a short amount of text explaining your implementation, any decisions or extensions you made, and what parameter values you used. This part is worth 20% of the assignment."
   ]
  },
  {
   "cell_type": "markdown",
   "metadata": {},
   "source": [
    "## Part One\n",
    "In this part you will write the code which builds the classifier. This part is worth 80% of the overall grade for the assignment as explained above.\n",
    "\n",
    "The cell below loads the training data into a variable called `training_spam`."
   ]
  },
  {
   "cell_type": "code",
   "execution_count": null,
   "metadata": {},
   "outputs": [],
   "source": [
    "import numpy as np\n",
    "\n",
    "training_spam = np.loadtxt(open(\"data/training_spam.csv\"), delimiter=\",\").astype(np.int)\n",
    "print(\"Shape of the spam training data set:\", training_spam.shape)\n",
    "print(training_spam)"
   ]
  },
  {
   "cell_type": "markdown",
   "metadata": {},
   "source": [
    "Your training set consists of 1000 rows and 55 columns. Each row corresponds to one email message. The first column is the _response_ variable and describes whether a message is spam `1` or ham `0`. The remaining 54 columns are _features_ that you will use to build a classifier. These features correspond to 54 different keywords (such as \"money\", \"free\", and \"receive\") and special characters (such as \":\", \"!\", and \"$\"). A feature has the value `1` if the keyword appears in the message and `0` otherwise.\n",
    "\n",
    "As mentioned there is also a 500 row set of *test data*. It contains the same 55 columns."
   ]
  },
  {
   "cell_type": "code",
   "execution_count": null,
   "metadata": {},
   "outputs": [],
   "source": [
    "testing_spam = np.loadtxt(open(\"data/testing_spam.csv\"), delimiter=\",\").astype(np.int)\n",
    "print(\"Shape of the spam testing data set:\", testing_spam.shape)\n",
    "print(testing_spam)"
   ]
  },
  {
   "cell_type": "markdown",
   "metadata": {},
   "source": [
    "Write all of the code for your classifier below this cell. There is some very rough skeleton code in the cell directly below. You may insert more cells below this if you wish.\n",
    "\n",
    "### Submission Requirements\n",
    "Your code must provide a variable with the name `classifier`. This object must have a method called `predict` which takes input data and returns class predictions. The input will be a single $n \\times 54$ numpy array, your classifier should return a numpy array of length $n$ with classifications. There is a demo in the cell below, and a test you can run before submitting to check your code is working correctly.\n",
    "\n",
    "Your code must run on our machines in under 60 seconds. If you wish to train a more complicated model (e.g. neural network) which will take longer, you are welcome to save the model's weights as a file and then load these in the cell below so we can test it. You must include the code which computes the original weights, but this must not run when we run the notebook – comment out the code which actually executes the routine and make sure it is clear what we need to change to get it to run. Remember that we will be testing your final classifier on additional hidden data."
   ]
  },
  {
   "cell_type": "code",
   "execution_count": null,
   "metadata": {},
   "outputs": [],
   "source": [
    "# This skeleton code simply classifies every input as ham\n",
    "#\n",
    "# Here you can see there is a parameter k that is unused, the\n",
    "# point is to show you how you could set up your own. You might\n",
    "# also pass in extra data via a train method (also does nothing\n",
    "# here). Modify this code as much as you like so long as the \n",
    "# accuracy test in the cell below runs.\n",
    "\n",
    "class SpamClassifier:\n",
    "    def __init__(self, k):\n",
    "        self.k = k\n",
    "        \n",
    "    def train(self):\n",
    "        pass\n",
    "        \n",
    "    def predict(self, data):\n",
    "        return np.zeros(data.shape[0])\n",
    "    \n",
    "\n",
    "def create_classifier():\n",
    "    classifier = SpamClassifier(k=1)\n",
    "    classifier.train()\n",
    "    return classifier\n",
    "\n",
    "classifier = create_classifier()"
   ]
  },
  {
   "cell_type": "code",
   "execution_count": null,
   "metadata": {
    "deletable": false,
    "editable": false,
    "nbgrader": {
     "cell_type": "code",
     "checksum": "23709de2882e5c865ea3ad2b02de7fd4",
     "grade": true,
     "grade_id": "cell-b993518c6339eaf0",
     "locked": true,
     "points": 0,
     "schema_version": 3,
     "solution": false,
     "task": false
    }
   },
   "outputs": [],
   "source": [
    "# Write all of the code for your classifier above this cell.\n",
    "\n",
    "# This cell will run the test data through the classifier and print the accuracy. \n",
    "# The skeleton code above classifies every row as ham, but once you have written\n",
    "# your own classifier you can run this cell again to test it. So long as your code \n",
    "# sets up a variable called classifier with a method called predict, the test code \n",
    "# will be able to run. \n",
    "\n",
    "# You may want to create another verison of this cell for your own tests, especially\n",
    "# if you choose to split the training and test data differently from the default \n",
    "# 1000/500 split.\n",
    "\n",
    "# However you *must* ensure this version still runs before submitting.\n",
    "\n",
    "testing_spam = np.loadtxt(open(\"data/testing_spam.csv\"), delimiter=\",\").astype(np.int)\n",
    "test_data = testing_spam[:, 1:]\n",
    "test_labels = testing_spam[:, 0]\n",
    "\n",
    "predictions = classifier.predict(test_data)\n",
    "accuracy = np.count_nonzero(predictions == test_labels)/test_labels.shape[0]\n",
    "print(f\"Accuracy on test data is: {accuracy}\")"
   ]
  },
  {
   "cell_type": "markdown",
   "metadata": {},
   "source": [
    "## Part Two\n",
    "In this part you will write a short discussion and analysis of your implementation in the cell below. This part is worth 20% of the overall grade for the assignment.\n",
    "* Short means approximately 300 words. There are no hard limits but overly long answers may be penalised.\n",
    "* Please answer the following questions in your answer:\n",
    " * What supervised learning technique did you use?\n",
    " * How did you train it? How did you split training and test data? (If relevant.)\n",
    " * What accuracy percentage do you think your classifier will get on the *hidden* data?\n",
    "* You may also wish to discuss the following points:\n",
    " * Discuss the measured accuracy of your classifier in the context of the spam filtering problem.\n",
    " * For any parameters that were chosen by hand, explain your choices.\n",
    " * How could you further improve performance? (For any definition of performance.)"
   ]
  },
  {
   "cell_type": "markdown",
   "metadata": {
    "deletable": false,
    "nbgrader": {
     "cell_type": "markdown",
     "checksum": "af728b7a0649d1b7c54040d56fe97f8a",
     "grade": true,
     "grade_id": "cell-208fb52194020411",
     "locked": false,
     "points": 20,
     "schema_version": 3,
     "solution": true,
     "task": false
    }
   },
   "source": [
    "YOUR ANSWER HERE – double click to edit, write in markdown, run cell to render"
   ]
  },
  {
   "cell_type": "markdown",
   "metadata": {},
   "source": [
    "### Test Cell\n",
    "The cell below contains hidden tests for part one, please do not modify or delete it."
   ]
  },
  {
   "cell_type": "code",
   "execution_count": null,
   "metadata": {
    "deletable": false,
    "editable": false,
    "nbgrader": {
     "cell_type": "code",
     "checksum": "5f59669b016ea021a93ff3c48c7bbf24",
     "grade": true,
     "grade_id": "cell-cfbacadfc7619537",
     "locked": true,
     "points": 80,
     "schema_version": 3,
     "solution": false,
     "task": false
    }
   },
   "outputs": [],
   "source": [
    "# This is a test cell. Please do not modify or delete."
   ]
  }
 ],
 "metadata": {
  "kernelspec": {
   "display_name": "Python 3",
   "language": "python",
   "name": "python3"
  },
  "language_info": {
   "codemirror_mode": {
    "name": "ipython",
    "version": 3
   },
   "file_extension": ".py",
   "mimetype": "text/x-python",
   "name": "python",
   "nbconvert_exporter": "python",
   "pygments_lexer": "ipython3",
   "version": "3.8.8"
  }
 },
 "nbformat": 4,
 "nbformat_minor": 2
}
